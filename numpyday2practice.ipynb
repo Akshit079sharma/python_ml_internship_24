{
 "cells": [
  {
   "cell_type": "code",
   "execution_count": 1,
   "id": "d98fbea4-2af8-4fa2-95f8-47ef096186f1",
   "metadata": {},
   "outputs": [
    {
     "name": "stdout",
     "output_type": "stream",
     "text": [
      "[[85 90 78]\n",
      " [92 88 95]\n",
      " [76 95 85]\n",
      " [90 85 92]\n",
      " [88 76 89]]\n"
     ]
    }
   ],
   "source": [
    "import numpy as np\n",
    "scores=np.array([[85,90,78],\n",
    "                 [92,88,95],\n",
    "                 [76,95,85],\n",
    "                 [90,85,92],\n",
    "                 [88,76,89]])\n",
    "print(scores)"
   ]
  },
  {
   "cell_type": "code",
   "execution_count": 2,
   "id": "1b120c18-9eb3-43a3-8475-7d72567503af",
   "metadata": {},
   "outputs": [
    {
     "name": "stdout",
     "output_type": "stream",
     "text": [
      "[84.33333333 91.66666667 85.33333333 89.         84.33333333]\n"
     ]
    }
   ],
   "source": [
    "#mean score of each subject(across all student)\n",
    "mean_scores=np.mean(scores,axis=1)\n",
    "print(mean_scores)"
   ]
  },
  {
   "cell_type": "code",
   "execution_count": 3,
   "id": "6ce2acf3-c428-4e59-a706-59724302634e",
   "metadata": {},
   "outputs": [
    {
     "name": "stdout",
     "output_type": "stream",
     "text": [
      "[85. 92. 85. 90. 88.]\n"
     ]
    }
   ],
   "source": [
    "#median scores of each student(across all student)\n",
    "median_scores=np.median(scores,axis=1)\n",
    "print(median_scores)"
   ]
  },
  {
   "cell_type": "code",
   "execution_count": 8,
   "id": "019506cb-9819-4e57-97f1-ebaf65688a66",
   "metadata": {},
   "outputs": [
    {
     "name": "stdout",
     "output_type": "stream",
     "text": [
      "Total scores of each student: [253 275 256 267 253]\n",
      "Highest total scores: [92 88 95]\n"
     ]
    }
   ],
   "source": [
    "#extract the scores of the student of witth he highest total score(sum of all subjects)\n",
    "total_scores=np.sum(scores,axis=1)\n",
    "index_highest_total = np.argmax(total_scores)\n",
    "highest_total_scores = scores[index_highest_total]\n",
    "\n",
    "print(\"Total scores of each student:\", total_scores)\n",
    "print(\"Highest total scores:\", highest_total_scores)\n"
   ]
  },
  {
   "cell_type": "code",
   "execution_count": 7,
   "id": "65ee9ec4-f4ee-42e5-b0da-4f4636d58145",
   "metadata": {},
   "outputs": [
    {
     "name": "stdout",
     "output_type": "stream",
     "text": [
      "minimum scores in each subject: [76 76 78]\n",
      "maximum marks in each student: [92 95 95]\n"
     ]
    }
   ],
   "source": [
    "#4 find the minnimum and maximum in scores in each subject\n",
    "minimum_scores=np.min(scores,axis=0)\n",
    "maximum_scores=np.max(scores,axis=0)\n",
    "print(\"minimum scores in each subject:\",minimum_scores)\n",
    "print(\"maximum marks in each student:\",maximum_scores)"
   ]
  },
  {
   "cell_type": "code",
   "execution_count": 28,
   "id": "9a1f5644-eada-4123-9c98-760eb008b000",
   "metadata": {},
   "outputs": [
    {
     "name": "stdout",
     "output_type": "stream",
     "text": [
      "[[85 90 78 92 88]\n",
      " [95 76 95 85 90]\n",
      " [85 92 88 76 89]]\n"
     ]
    }
   ],
   "source": [
    "#reshape the array to have shape(3,5)where each row represents a subject and each column reepresent a student.\n",
    "\n",
    "reshaped_scores=scores.reshape(3,5)\n",
    "print(reshaped_scores)"
   ]
  },
  {
   "cell_type": "code",
   "execution_count": 22,
   "id": "01e83558-8736-4873-b907-ea7c0d437fbe",
   "metadata": {},
   "outputs": [
    {
     "name": "stdout",
     "output_type": "stream",
     "text": [
      "sorted scores of each subject:\n",
      " [[76 76 78]\n",
      " [85 85 85]\n",
      " [88 88 89]\n",
      " [90 90 92]\n",
      " [92 95 95]]\n"
     ]
    }
   ],
   "source": [
    "#sort the scores of each subject in ascending order\n",
    "sort_scores=np.sort(scores,axis=0)\n",
    "print(\"sorted scores of each subject:\\n\",sort_scores)"
   ]
  },
  {
   "cell_type": "code",
   "execution_count": 25,
   "id": "a87e4112-7de5-4916-97cb-81fc04b4a233",
   "metadata": {},
   "outputs": [
    {
     "data": {
      "text/plain": [
       "array([[92, 95, 95],\n",
       "       [90, 90, 92],\n",
       "       [88, 88, 89],\n",
       "       [85, 85, 85],\n",
       "       [76, 76, 78]])"
      ]
     },
     "execution_count": 25,
     "metadata": {},
     "output_type": "execute_result"
    }
   ],
   "source": [
    "#descending sort\n",
    "descending_sort=np.sort(scores,axis=0)[::-1]\n",
    "descending_sort\n"
   ]
  },
  {
   "cell_type": "markdown",
   "id": "0ed5ae8c-7e81-4a64-8ec1-90d5e7374304",
   "metadata": {},
   "source": [
    "***Akshit***"
   ]
  }
 ],
 "metadata": {
  "kernelspec": {
   "display_name": "Python 3 (ipykernel)",
   "language": "python",
   "name": "python3"
  },
  "language_info": {
   "codemirror_mode": {
    "name": "ipython",
    "version": 3
   },
   "file_extension": ".py",
   "mimetype": "text/x-python",
   "name": "python",
   "nbconvert_exporter": "python",
   "pygments_lexer": "ipython3",
   "version": "3.12.4"
  }
 },
 "nbformat": 4,
 "nbformat_minor": 5
}
