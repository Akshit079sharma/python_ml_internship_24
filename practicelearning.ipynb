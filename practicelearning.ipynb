{
 "cells": [
  {
   "cell_type": "code",
   "execution_count": 6,
   "id": "defe2327-f3df-47eb-9a45-8670d0bf23f4",
   "metadata": {},
   "outputs": [
    {
     "name": "stdout",
     "output_type": "stream",
     "text": [
      "Helloworld\n"
     ]
    }
   ],
   "source": [
    "print(\"Helloworld\")"
   ]
  },
  {
   "cell_type": "code",
   "execution_count": 7,
   "id": "c4750710-23af-4cfc-8f71-94601fac8bc7",
   "metadata": {},
   "outputs": [
    {
     "name": "stdout",
     "output_type": "stream",
     "text": [
      "o........----\n",
      " | | | |\n"
     ]
    }
   ],
   "source": [
    "print('o........----')\n",
    "print(' | | | |')"
   ]
  },
  {
   "cell_type": "code",
   "execution_count": 10,
   "id": "3d72e6d4-d91a-4d2f-97a5-8bd26cee6936",
   "metadata": {},
   "outputs": [
    {
     "name": "stdout",
     "output_type": "stream",
     "text": [
      "****************************************************************************************************\n"
     ]
    }
   ],
   "source": [
    "print('*' * 100)"
   ]
  },
  {
   "cell_type": "code",
   "execution_count": 14,
   "id": "e846c6c6-6547-4a23-85b3-862b3d5d668f",
   "metadata": {},
   "outputs": [
    {
     "data": {
      "text/plain": [
       "100"
      ]
     },
     "execution_count": 14,
     "metadata": {},
     "output_type": "execute_result"
    }
   ],
   "source": [
    "price = 100\n",
    "price"
   ]
  },
  {
   "cell_type": "code",
   "execution_count": 17,
   "id": "13049585-70c5-4ee0-857e-50bb766b1521",
   "metadata": {},
   "outputs": [
    {
     "name": "stdout",
     "output_type": "stream",
     "text": [
      "20\n"
     ]
    }
   ],
   "source": [
    "price=10\n",
    "price=20\n",
    "print(price)\n"
   ]
  },
  {
   "cell_type": "code",
   "execution_count": 23,
   "id": "20f436e6-8a9e-428a-ba90-e76e992b5d4c",
   "metadata": {},
   "outputs": [
    {
     "data": {
      "text/plain": [
       "float"
      ]
     },
     "execution_count": 23,
     "metadata": {},
     "output_type": "execute_result"
    }
   ],
   "source": [
    "rating=7.8\n",
    "rating\n",
    "type(rating)\n"
   ]
  },
  {
   "cell_type": "code",
   "execution_count": 14,
   "id": "59784627-b407-44f6-9864-82109e74a7e1",
   "metadata": {},
   "outputs": [
    {
     "name": "stdin",
     "output_type": "stream",
     "text": [
      "what is ur name akshit\n",
      "what is ur fav color green\n"
     ]
    },
    {
     "data": {
      "text/plain": [
       "'green'"
      ]
     },
     "execution_count": 14,
     "metadata": {},
     "output_type": "execute_result"
    }
   ],
   "source": [
    "name = input('what is ur name')\n",
    "name\n",
    "color = input('what is ur fav color')\n",
    "color\n",
    "\n"
   ]
  },
  {
   "cell_type": "code",
   "execution_count": 24,
   "id": "8132fcca-6208-492b-bda9-987ba44e9d68",
   "metadata": {},
   "outputs": [
    {
     "name": "stdout",
     "output_type": "stream",
     "text": [
      "akshit like green\n"
     ]
    }
   ],
   "source": [
    "print(name  + \" like \" + color)"
   ]
  },
  {
   "cell_type": "code",
   "execution_count": 33,
   "id": "0a52aa0a-d527-49ca-902d-04aadd42ca81",
   "metadata": {},
   "outputs": [
    {
     "name": "stdin",
     "output_type": "stream",
     "text": [
      "year of birth 2004\n"
     ]
    },
    {
     "name": "stdout",
     "output_type": "stream",
     "text": [
      "<class 'str'>\n",
      "20\n",
      "<class 'int'>\n"
     ]
    }
   ],
   "source": [
    "birth_year=input('year of birth')\n",
    "print(type(birth_year))\n",
    "age = (2024-int(birth_year))\n",
    "print(age)\n",
    "print(type(age))\n"
   ]
  },
  {
   "cell_type": "code",
   "execution_count": null,
   "id": "dd98202b-6071-402e-9e22-03bcd5ebb8cc",
   "metadata": {},
   "outputs": [],
   "source": []
  }
 ],
 "metadata": {
  "kernelspec": {
   "display_name": "Python 3 (ipykernel)",
   "language": "python",
   "name": "python3"
  },
  "language_info": {
   "codemirror_mode": {
    "name": "ipython",
    "version": 3
   },
   "file_extension": ".py",
   "mimetype": "text/x-python",
   "name": "python",
   "nbconvert_exporter": "python",
   "pygments_lexer": "ipython3",
   "version": "3.12.4"
  }
 },
 "nbformat": 4,
 "nbformat_minor": 5
}
