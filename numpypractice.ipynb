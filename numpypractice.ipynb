{
 "cells": [
  {
   "cell_type": "code",
   "execution_count": 29,
   "id": "bd70b215-7f75-4783-9b56-f3f8a655abab",
   "metadata": {},
   "outputs": [
    {
     "name": "stdout",
     "output_type": "stream",
     "text": [
      "[0.85983202 0.23287868 0.9774706  0.44921996 0.48002558]\n",
      "\n",
      "\n",
      "[  0.          11.11111111  22.22222222  33.33333333  44.44444444\n",
      "  55.55555556  66.66666667  77.77777778  88.88888889 100.        ]\n",
      " \n",
      "[0. 0. 0. 0. 0.]\n"
     ]
    }
   ],
   "source": [
    "import numpy as np \n",
    "#bulinfunctions 1d\n",
    "ran = np.random.rand(5)\n",
    "print(ran)\n",
    "print('\\n')\n",
    "ln = np.linspace(0,100,10)\n",
    "print(ln)\n",
    "Z=np.zeros(5)\n",
    "print(\" \")\n",
    "print(Z)"
   ]
  },
  {
   "cell_type": "code",
   "execution_count": 33,
   "id": "c74476c6-2a97-4c41-ac02-1e3d4b533fa6",
   "metadata": {},
   "outputs": [],
   "source": [
    "ln = np.linspace(0,100,10)\n",
    "Z=np.zeros(5)"
   ]
  },
  {
   "cell_type": "code",
   "execution_count": 34,
   "id": "7c2d4d0a-1470-49ea-baaa-7b117ce39f25",
   "metadata": {},
   "outputs": [
    {
     "data": {
      "text/plain": [
       "array([0., 0., 0., 0., 0.])"
      ]
     },
     "execution_count": 34,
     "metadata": {},
     "output_type": "execute_result"
    }
   ],
   "source": [
    "ln\n",
    "Z"
   ]
  },
  {
   "cell_type": "code",
   "execution_count": 36,
   "id": "622bdd4e-f8e7-4a49-bb02-f5ba09fbe6f9",
   "metadata": {},
   "outputs": [],
   "source": [
    "ran=np.linspace(0,100,10)"
   ]
  },
  {
   "cell_type": "code",
   "execution_count": 37,
   "id": "3759642f-ef21-41c4-8e58-706b6698ef10",
   "metadata": {},
   "outputs": [
    {
     "data": {
      "text/plain": [
       "array([  0.        ,  11.11111111,  22.22222222,  33.33333333,\n",
       "        44.44444444,  55.55555556,  66.66666667,  77.77777778,\n",
       "        88.88888889, 100.        ])"
      ]
     },
     "execution_count": 37,
     "metadata": {},
     "output_type": "execute_result"
    }
   ],
   "source": [
    "ran"
   ]
  },
  {
   "cell_type": "code",
   "execution_count": 39,
   "id": "954d2196-74ed-4d6d-bcfd-d0d4492e04f5",
   "metadata": {},
   "outputs": [
    {
     "data": {
      "text/plain": [
       "array([[1., 1., 1., 1., 1.],\n",
       "       [1., 1., 1., 1., 1.],\n",
       "       [1., 1., 1., 1., 1.],\n",
       "       [1., 1., 1., 1., 1.],\n",
       "       [1., 1., 1., 1., 1.]])"
      ]
     },
     "execution_count": 39,
     "metadata": {},
     "output_type": "execute_result"
    }
   ],
   "source": [
    "o1=np.ones([5,5])\n",
    "o1"
   ]
  },
  {
   "cell_type": "code",
   "execution_count": 41,
   "id": "c5edafa0-9d4d-41b5-b537-227ebec273ec",
   "metadata": {},
   "outputs": [
    {
     "data": {
      "text/plain": [
       "array([[1., 0., 0., 0., 0.],\n",
       "       [0., 1., 0., 0., 0.],\n",
       "       [0., 0., 1., 0., 0.],\n",
       "       [0., 0., 0., 1., 0.],\n",
       "       [0., 0., 0., 0., 1.]])"
      ]
     },
     "execution_count": 41,
     "metadata": {},
     "output_type": "execute_result"
    }
   ],
   "source": [
    "I=np.eye(5)\n",
    "I"
   ]
  },
  {
   "cell_type": "code",
   "execution_count": 45,
   "id": "26b04eaf-57d0-49b5-9729-7aa4a61263aa",
   "metadata": {},
   "outputs": [
    {
     "data": {
      "text/plain": [
       "array([[0.68331671, 0.09430472, 0.51165624, 0.37210524, 0.69398222],\n",
       "       [0.14530227, 0.0428564 , 0.29494779, 0.98223944, 0.35662673],\n",
       "       [0.79224472, 0.71046051, 0.41972649, 0.64648528, 0.84330924],\n",
       "       [0.29087077, 0.82920496, 0.7272441 , 0.48846422, 0.50712104]])"
      ]
     },
     "execution_count": 45,
     "metadata": {},
     "output_type": "execute_result"
    }
   ],
   "source": [
    "r1=np.random.rand(4,5)\n",
    "r1"
   ]
  },
  {
   "cell_type": "code",
   "execution_count": 47,
   "id": "3725c92d-28fd-4c44-a20b-fe7a86fc5ec4",
   "metadata": {
    "scrolled": true
   },
   "outputs": [
    {
     "data": {
      "text/plain": [
       "array([[[0.79121148, 0.01514292, 0.57610566, 0.98663694, 0.51238984],\n",
       "        [0.33560869, 0.17652926, 0.92925571, 0.3813045 , 0.28415049],\n",
       "        [0.52355112, 0.37786078, 0.81743861, 0.55545418, 0.00352938],\n",
       "        [0.09876539, 0.48401356, 0.96858251, 0.49061453, 0.11088942],\n",
       "        [0.94845177, 0.28443375, 0.27804719, 0.87281992, 0.0235504 ]],\n",
       "\n",
       "       [[0.66102872, 0.80447304, 0.72210398, 0.07329313, 0.91923918],\n",
       "        [0.0524821 , 0.02599978, 0.53673923, 0.84271546, 0.241465  ],\n",
       "        [0.14135661, 0.7103564 , 0.63721574, 0.45835112, 0.36488413],\n",
       "        [0.13687417, 0.94025206, 0.40470488, 0.70567007, 0.23278224],\n",
       "        [0.41896265, 0.16217025, 0.40417913, 0.44317264, 0.33999019]],\n",
       "\n",
       "       [[0.67853452, 0.67154307, 0.01163765, 0.92348423, 0.25232003],\n",
       "        [0.0293337 , 0.27448408, 0.14569942, 0.8441502 , 0.45089745],\n",
       "        [0.4500241 , 0.88523163, 0.79751223, 0.29819482, 0.47130553],\n",
       "        [0.64987282, 0.36408489, 0.61829989, 0.74320921, 0.14845588],\n",
       "        [0.59399002, 0.56426037, 0.89962232, 0.1636146 , 0.6052143 ]],\n",
       "\n",
       "       [[0.76455303, 0.05867149, 0.60782604, 0.46594204, 0.02682488],\n",
       "        [0.91840603, 0.25569479, 0.30983874, 0.24617313, 0.24400534],\n",
       "        [0.80942888, 0.18070741, 0.97267731, 0.93778239, 0.52186008],\n",
       "        [0.87561529, 0.81488132, 0.49279277, 0.70501711, 0.01103093],\n",
       "        [0.81888395, 0.80532867, 0.82965719, 0.23777009, 0.3812003 ]]])"
      ]
     },
     "execution_count": 47,
     "metadata": {},
     "output_type": "execute_result"
    }
   ],
   "source": [
    "r1=np.random.rand(4,5,5)#3d array\n",
    "r1"
   ]
  },
  {
   "cell_type": "markdown",
   "id": "e7f60c53-97f0-4831-92be-6aa32eca6121",
   "metadata": {},
   "source": [
    "#operations in array\n",
    "\n",
    "**copy**\n",
    "\n",
    "**sort**\n",
    "\n",
    "**reshape**"
   ]
  },
  {
   "cell_type": "code",
   "execution_count": 2,
   "id": "25b2d47a-d67e-48fd-b111-add46416eeb5",
   "metadata": {},
   "outputs": [
    {
     "data": {
      "text/plain": [
       "array([1, 2, 3, 4, 5])"
      ]
     },
     "execution_count": 2,
     "metadata": {},
     "output_type": "execute_result"
    }
   ],
   "source": [
    "import numpy as np\n",
    "arr=np.array([1,2,3,4,5])\n",
    "arr"
   ]
  },
  {
   "cell_type": "code",
   "execution_count": 6,
   "id": "3432d30d-514b-4ae7-b8b8-a52b7d32c203",
   "metadata": {},
   "outputs": [
    {
     "data": {
      "text/plain": [
       "array([1, 2, 3, 4, 5])"
      ]
     },
     "execution_count": 6,
     "metadata": {},
     "output_type": "execute_result"
    }
   ],
   "source": [
    "ar2=np.array([1,2,3,4,5,],dtype=np.int64)\n",
    "ar2"
   ]
  },
  {
   "cell_type": "code",
   "execution_count": 7,
   "id": "0b02c6a9-b012-4be1-be84-648b750f14cf",
   "metadata": {},
   "outputs": [
    {
     "data": {
      "text/plain": [
       "array([1, 2, 3, 4, 5])"
      ]
     },
     "execution_count": 7,
     "metadata": {},
     "output_type": "execute_result"
    }
   ],
   "source": [
    "ar3=np.copy(ar2)\n",
    "ar3"
   ]
  },
  {
   "cell_type": "code",
   "execution_count": 10,
   "id": "6a41d5e6-7af4-484c-ad03-bc01b4535f93",
   "metadata": {},
   "outputs": [
    {
     "data": {
      "text/plain": [
       "array([1, 2, 3, 4, 5])"
      ]
     },
     "execution_count": 10,
     "metadata": {},
     "output_type": "execute_result"
    }
   ],
   "source": [
    "arr"
   ]
  },
  {
   "cell_type": "code",
   "execution_count": 12,
   "id": "0cbc44d4-366d-407f-a3d3-f7657779f7e3",
   "metadata": {},
   "outputs": [
    {
     "data": {
      "text/plain": [
       "array([1, 2, 3, 4, 5, 5, 4])"
      ]
     },
     "execution_count": 12,
     "metadata": {},
     "output_type": "execute_result"
    }
   ],
   "source": [
    "arr=np.append(arr,4)\n",
    "arr"
   ]
  },
  {
   "cell_type": "code",
   "execution_count": 13,
   "id": "9087771b-8214-44b1-ab48-97f60edde8f0",
   "metadata": {},
   "outputs": [
    {
     "data": {
      "text/plain": [
       "array([1, 2, 3, 4, 5, 5, 4, 4])"
      ]
     },
     "execution_count": 13,
     "metadata": {},
     "output_type": "execute_result"
    }
   ],
   "source": [
    "arr=np.append(arr,4)\n",
    "arr"
   ]
  },
  {
   "cell_type": "code",
   "execution_count": null,
   "id": "c87763c5-b89d-4373-a3ae-402a39ec5f17",
   "metadata": {},
   "outputs": [],
   "source": [
    "concatination\n",
    "#scalar expresson\n",
    "add\n",
    "subtract\n",
    "multiply\n",
    "divide\n",
    "power\n",
    "\n",
    "\n",
    "#stACtics\n",
    "np.\n"
   ]
  }
 ],
 "metadata": {
  "kernelspec": {
   "display_name": "Python 3 (ipykernel)",
   "language": "python",
   "name": "python3"
  },
  "language_info": {
   "codemirror_mode": {
    "name": "ipython",
    "version": 3
   },
   "file_extension": ".py",
   "mimetype": "text/x-python",
   "name": "python",
   "nbconvert_exporter": "python",
   "pygments_lexer": "ipython3",
   "version": "3.12.4"
  }
 },
 "nbformat": 4,
 "nbformat_minor": 5
}
