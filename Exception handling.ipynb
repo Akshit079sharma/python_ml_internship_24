{
 "cells": [
  {
   "cell_type": "code",
   "execution_count": 1,
   "id": "a85c0a3d-6763-4ea1-8ef3-d057e5661a74",
   "metadata": {},
   "outputs": [
    {
     "data": {
      "text/plain": [
       "4"
      ]
     },
     "execution_count": 1,
     "metadata": {},
     "output_type": "execute_result"
    }
   ],
   "source": [
    "L=[1,2,3,4,5]\n",
    "\n",
    "L[3]"
   ]
  },
  {
   "cell_type": "code",
   "execution_count": 8,
   "id": "c0232ed9-8446-4699-8347-56bf66c97c50",
   "metadata": {},
   "outputs": [
    {
     "name": "stdout",
     "output_type": "stream",
     "text": [
      "Hello world\n",
      "4\n",
      "5\n",
      "end of code\n"
     ]
    }
   ],
   "source": [
    "print(\"Hello world\")\n",
    "L\n",
    "print(L[3])\n",
    "try:\n",
    "    print(L[4])\n",
    "except:\n",
    "    print(\"invalid index\")\n",
    "finally:\n",
    "print(\"end of code\")"
   ]
  },
  {
   "cell_type": "code",
   "execution_count": 13,
   "id": "9e075669-abd5-4a24-a10d-3e1ba8e782ea",
   "metadata": {},
   "outputs": [
    {
     "name": "stdout",
     "output_type": "stream",
     "text": [
      "0.5\n",
      "code executed successfully\n"
     ]
    }
   ],
   "source": [
    "a=10\n",
    "b=20\n",
    "\n",
    "try :\n",
    "    print(a/b)\n",
    "except:\n",
    "    print(\"B can't be zero\")\n",
    "finally:\n",
    "    print(\"code executed successfully\")"
   ]
  },
  {
   "cell_type": "code",
   "execution_count": 16,
   "id": "097260b9-beea-4788-9da8-becc40814bfb",
   "metadata": {},
   "outputs": [
    {
     "name": "stdout",
     "output_type": "stream",
     "text": [
      "B cant be zero\n"
     ]
    }
   ],
   "source": [
    "a=10\n",
    "b=0\n",
    "try:\n",
    "    print(a/b)\n",
    "except ZeroDivisionError:\n",
    "    print(\"B cant be zero\")"
   ]
  },
  {
   "cell_type": "code",
   "execution_count": 15,
   "id": "c91ad0d1-ddb2-477a-9a98-8de4daf186ad",
   "metadata": {},
   "outputs": [
    {
     "name": "stdout",
     "output_type": "stream",
     "text": [
      "0.5\n",
      "code executed successfully\n"
     ]
    }
   ],
   "source": [
    "a=10\n",
    "b=20\n",
    "\n",
    "try :\n",
    "    print(a/b)\n",
    "except ZeroDivisionError:\n",
    "    print(\"B can't be zero\")\n",
    "except NameError:\n",
    "    print(\"Incorect identifier\")\n",
    "except IndexError:\n",
    "    (\"trying to fetch the no exciting data\")\n",
    "finally:\n",
    "    print(\"code executed successfully\")"
   ]
  },
  {
   "cell_type": "code",
   "execution_count": 21,
   "id": "bde42ab1-35b5-4a0e-8a48-866dc31aa44d",
   "metadata": {},
   "outputs": [
    {
     "name": "stdout",
     "output_type": "stream",
     "text": [
      "Error: division by zero\n",
      "Code executed succesfully\n"
     ]
    }
   ],
   "source": [
    "a=10\n",
    "b=0\n",
    "\n",
    "try :\n",
    "    print(a/b)\n",
    "    L[8]\n",
    "except Exception as e:\n",
    "    print(\"Error:\",e)\n",
    "finally:\n",
    "    print(\"Code executed succesfully\")"
   ]
  },
  {
   "cell_type": "code",
   "execution_count": null,
   "id": "76349f4a-5c5b-4328-86ab-010aeb448135",
   "metadata": {},
   "outputs": [],
   "source": []
  }
 ],
 "metadata": {
  "kernelspec": {
   "display_name": "Python 3 (ipykernel)",
   "language": "python",
   "name": "python3"
  },
  "language_info": {
   "codemirror_mode": {
    "name": "ipython",
    "version": 3
   },
   "file_extension": ".py",
   "mimetype": "text/x-python",
   "name": "python",
   "nbconvert_exporter": "python",
   "pygments_lexer": "ipython3",
   "version": "3.12.4"
  }
 },
 "nbformat": 4,
 "nbformat_minor": 5
}
