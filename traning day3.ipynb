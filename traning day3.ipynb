{
 "cells": [
  {
   "cell_type": "markdown",
   "id": "5ef8aa70-ace2-43df-8276-a169b3a73347",
   "metadata": {},
   "source": [
    "** Welcome to python class **"
   ]
  },
  {
   "cell_type": "markdown",
   "id": "4e45a47a-b0c7-4946-8ed2-9ba54822660d",
   "metadata": {},
   "source": [
    "**Welocome Akshit**"
   ]
  },
  {
   "cell_type": "code",
   "execution_count": null,
   "id": "08b38981-d57a-4364-accc-9d931a077032",
   "metadata": {},
   "outputs": [],
   "source": []
  }
 ],
 "metadata": {
  "kernelspec": {
   "display_name": "Python 3 (ipykernel)",
   "language": "python",
   "name": "python3"
  },
  "language_info": {
   "codemirror_mode": {
    "name": "ipython",
    "version": 3
   },
   "file_extension": ".py",
   "mimetype": "text/x-python",
   "name": "python",
   "nbconvert_exporter": "python",
   "pygments_lexer": "ipython3",
   "version": "3.12.4"
  }
 },
 "nbformat": 4,
 "nbformat_minor": 5
}
