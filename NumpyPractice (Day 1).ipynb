{
 "cells": [
  {
   "cell_type": "code",
   "execution_count": 4,
   "id": "f2c3a701-40f5-48a9-ab36-1f102cb391d5",
   "metadata": {},
   "outputs": [],
   "source": [
    "# Numpy installed globally from Command prompt (pip install numpy)\n",
    "import numpy as np"
   ]
  },
  {
   "cell_type": "code",
   "execution_count": 5,
   "id": "8f627a59-b522-44eb-814d-cae745fd449f",
   "metadata": {},
   "outputs": [],
   "source": [
    "# 1D Arrays\n",
    "arr = np.array([1,2,3,4,5])"
   ]
  },
  {
   "cell_type": "code",
   "execution_count": 6,
   "id": "03361293-04dc-4192-8b9c-241539f061a3",
   "metadata": {},
   "outputs": [
    {
     "data": {
      "text/plain": [
       "array([1, 2, 3, 4, 5])"
      ]
     },
     "execution_count": 6,
     "metadata": {},
     "output_type": "execute_result"
    }
   ],
   "source": [
    "arr"
   ]
  },
  {
   "cell_type": "code",
   "execution_count": 9,
   "id": "f81b80be-e954-4052-9d99-74e2fbd8057d",
   "metadata": {},
   "outputs": [
    {
     "name": "stdout",
     "output_type": "stream",
     "text": [
      "int64\n"
     ]
    }
   ],
   "source": [
    "print(arr.dtype)"
   ]
  },
  {
   "cell_type": "code",
   "execution_count": 19,
   "id": "91e5f2ef-b2ee-4904-8d7d-5c019fc514cc",
   "metadata": {},
   "outputs": [],
   "source": [
    "arr2 = np.array([1, 2, 3, 4, 5], dtype=np.int64)"
   ]
  },
  {
   "cell_type": "code",
   "execution_count": 20,
   "id": "533e3371-dcf2-4c17-a7a0-2aedea65e443",
   "metadata": {},
   "outputs": [
    {
     "data": {
      "text/plain": [
       "array([1, 2, 3, 4, 5])"
      ]
     },
     "execution_count": 20,
     "metadata": {},
     "output_type": "execute_result"
    }
   ],
   "source": [
    "arr2"
   ]
  },
  {
   "cell_type": "code",
   "execution_count": 21,
   "id": "99ccfb04-2ef1-4fa1-b7a7-78c226418a47",
   "metadata": {},
   "outputs": [],
   "source": [
    "Z=np.zeros(5)"
   ]
  },
  {
   "cell_type": "code",
   "execution_count": 22,
   "id": "be83ce93-71a6-426f-b758-578df18c10a4",
   "metadata": {},
   "outputs": [
    {
     "data": {
      "text/plain": [
       "array([0., 0., 0., 0., 0.])"
      ]
     },
     "execution_count": 22,
     "metadata": {},
     "output_type": "execute_result"
    }
   ],
   "source": [
    "Z"
   ]
  },
  {
   "cell_type": "code",
   "execution_count": 25,
   "id": "41635049-727f-45f3-8975-3d1402110e60",
   "metadata": {},
   "outputs": [],
   "source": [
    "Z=np.ones(5)"
   ]
  },
  {
   "cell_type": "code",
   "execution_count": 26,
   "id": "948618cf-f091-4172-8cd5-d01828e6c11e",
   "metadata": {},
   "outputs": [
    {
     "data": {
      "text/plain": [
       "array([1., 1., 1., 1., 1.])"
      ]
     },
     "execution_count": 26,
     "metadata": {},
     "output_type": "execute_result"
    }
   ],
   "source": [
    "Z"
   ]
  },
  {
   "cell_type": "code",
   "execution_count": 27,
   "id": "63960cab-fc3a-451f-aa57-f6f5e1d29171",
   "metadata": {},
   "outputs": [],
   "source": [
    "ar=np.arange(0,10,1)"
   ]
  },
  {
   "cell_type": "code",
   "execution_count": 28,
   "id": "97cfcd5e-ba73-4391-9a31-52efa8fd3eee",
   "metadata": {},
   "outputs": [
    {
     "data": {
      "text/plain": [
       "array([0, 1, 2, 3, 4, 5, 6, 7, 8, 9])"
      ]
     },
     "execution_count": 28,
     "metadata": {},
     "output_type": "execute_result"
    }
   ],
   "source": [
    "ar"
   ]
  },
  {
   "cell_type": "code",
   "execution_count": 32,
   "id": "2506794a-1e21-4b71-8a05-ccfcbd326fe8",
   "metadata": {},
   "outputs": [],
   "source": [
    "## random rand function always takes values between 0 -1\n",
    "ran=np.random.rand(5)"
   ]
  },
  {
   "cell_type": "code",
   "execution_count": 33,
   "id": "45113394-f798-49d1-a202-9492395a9760",
   "metadata": {},
   "outputs": [
    {
     "data": {
      "text/plain": [
       "array([0.28902786, 0.86660174, 0.8041475 , 0.94707095, 0.68180499])"
      ]
     },
     "execution_count": 33,
     "metadata": {},
     "output_type": "execute_result"
    }
   ],
   "source": [
    "ran"
   ]
  },
  {
   "cell_type": "code",
   "execution_count": 35,
   "id": "bf2d0b72-c342-4845-879d-b1d3ba8bf7a0",
   "metadata": {},
   "outputs": [],
   "source": [
    "ln = np.linspace(0,100,10)"
   ]
  },
  {
   "cell_type": "code",
   "execution_count": 38,
   "id": "ca76c525-8463-49ff-9785-f5c35a517027",
   "metadata": {},
   "outputs": [
    {
     "data": {
      "text/plain": [
       "array([  0.        ,  11.11111111,  22.22222222,  33.33333333,\n",
       "        44.44444444,  55.55555556,  66.66666667,  77.77777778,\n",
       "        88.88888889, 100.        ])"
      ]
     },
     "execution_count": 38,
     "metadata": {},
     "output_type": "execute_result"
    }
   ],
   "source": [
    "ln"
   ]
  },
  {
   "cell_type": "code",
   "execution_count": 40,
   "id": "2360e56c-01e1-4abf-bab5-12812dcce56f",
   "metadata": {},
   "outputs": [],
   "source": [
    "# 2D Arrays\n",
    "ar2 = np.array([[1,2,3], [4,5,6], [7,8,9]])"
   ]
  },
  {
   "cell_type": "code",
   "execution_count": 41,
   "id": "1d395bf7-ca00-4f5a-a577-5a7baca8f77f",
   "metadata": {},
   "outputs": [
    {
     "data": {
      "text/plain": [
       "array([[1, 2, 3],\n",
       "       [4, 5, 6],\n",
       "       [7, 8, 9]])"
      ]
     },
     "execution_count": 41,
     "metadata": {},
     "output_type": "execute_result"
    }
   ],
   "source": [
    "ar2"
   ]
  },
  {
   "cell_type": "code",
   "execution_count": 47,
   "id": "09cc4387-4b73-4e1f-b6f0-3c155523f4b4",
   "metadata": {},
   "outputs": [
    {
     "data": {
      "text/plain": [
       "array([[0., 0., 0., 0., 0.],\n",
       "       [0., 0., 0., 0., 0.],\n",
       "       [0., 0., 0., 0., 0.],\n",
       "       [0., 0., 0., 0., 0.],\n",
       "       [0., 0., 0., 0., 0.]])"
      ]
     },
     "execution_count": 47,
     "metadata": {},
     "output_type": "execute_result"
    }
   ],
   "source": [
    "Z=np.zeros([5,5])\n",
    "Z"
   ]
  },
  {
   "cell_type": "code",
   "execution_count": 48,
   "id": "c343f058-3c14-42ff-914a-3cc45d24ebdf",
   "metadata": {},
   "outputs": [
    {
     "data": {
      "text/plain": [
       "array([[1., 1., 1., 1., 1.],\n",
       "       [1., 1., 1., 1., 1.],\n",
       "       [1., 1., 1., 1., 1.],\n",
       "       [1., 1., 1., 1., 1.],\n",
       "       [1., 1., 1., 1., 1.]])"
      ]
     },
     "execution_count": 48,
     "metadata": {},
     "output_type": "execute_result"
    }
   ],
   "source": [
    "o1 = np.ones([5,5])\n",
    "o1"
   ]
  },
  {
   "cell_type": "code",
   "execution_count": 49,
   "id": "9f6f8361-75f1-4c28-ba42-76ecb0c36666",
   "metadata": {},
   "outputs": [
    {
     "data": {
      "text/plain": [
       "array([[1., 0., 0., 0., 0.],\n",
       "       [0., 1., 0., 0., 0.],\n",
       "       [0., 0., 1., 0., 0.],\n",
       "       [0., 0., 0., 1., 0.],\n",
       "       [0., 0., 0., 0., 1.]])"
      ]
     },
     "execution_count": 49,
     "metadata": {},
     "output_type": "execute_result"
    }
   ],
   "source": [
    "# Identity Matrix\n",
    "I = np.eye(5)\n",
    "I"
   ]
  },
  {
   "cell_type": "code",
   "execution_count": 54,
   "id": "4a68561d-d19f-4523-bdb6-cbc79e5a753d",
   "metadata": {},
   "outputs": [
    {
     "data": {
      "text/plain": [
       "array([[0.86259882, 0.14255893, 0.26148992, 0.47484895],\n",
       "       [0.559261  , 0.41246748, 0.11670642, 0.46817437],\n",
       "       [0.67162182, 0.63186792, 0.80476949, 0.49749719],\n",
       "       [0.64640817, 0.96288882, 0.71992601, 0.28220841],\n",
       "       [0.50147412, 0.09846256, 0.08725937, 0.19172285],\n",
       "       [0.55185136, 0.68235692, 0.23359411, 0.51555804],\n",
       "       [0.44930866, 0.23594099, 0.59300716, 0.53943105],\n",
       "       [0.69466441, 0.52466951, 0.68663545, 0.27492923],\n",
       "       [0.41067699, 0.38043301, 0.34430446, 0.96310708]])"
      ]
     },
     "execution_count": 54,
     "metadata": {},
     "output_type": "execute_result"
    }
   ],
   "source": [
    "r1 = np.random.rand(9,4,)\n",
    "r1"
   ]
  },
  {
   "cell_type": "code",
   "execution_count": 55,
   "id": "77ee9542-e286-4dbf-99c2-748bcac26c9b",
   "metadata": {},
   "outputs": [
    {
     "data": {
      "text/plain": [
       "array([1, 2, 3, 4, 5])"
      ]
     },
     "execution_count": 55,
     "metadata": {},
     "output_type": "execute_result"
    }
   ],
   "source": [
    "arr"
   ]
  },
  {
   "cell_type": "code",
   "execution_count": 56,
   "id": "830e3cb1-7de9-401e-abba-94504da64c13",
   "metadata": {},
   "outputs": [
    {
     "data": {
      "text/plain": [
       "array([[1, 2, 3],\n",
       "       [4, 5, 6],\n",
       "       [7, 8, 9]])"
      ]
     },
     "execution_count": 56,
     "metadata": {},
     "output_type": "execute_result"
    }
   ],
   "source": [
    "ar2"
   ]
  },
  {
   "cell_type": "code",
   "execution_count": 57,
   "id": "b803393a-db33-4e65-8077-6fc2ed37bce7",
   "metadata": {},
   "outputs": [
    {
     "name": "stdout",
     "output_type": "stream",
     "text": [
      "5\n"
     ]
    }
   ],
   "source": [
    "print(arr.size)"
   ]
  },
  {
   "cell_type": "code",
   "execution_count": 58,
   "id": "296c97ee-1dd3-46f1-b837-974dda710cc0",
   "metadata": {},
   "outputs": [
    {
     "name": "stdout",
     "output_type": "stream",
     "text": [
      "9\n"
     ]
    }
   ],
   "source": [
    "print(ar2.size)"
   ]
  },
  {
   "cell_type": "code",
   "execution_count": 59,
   "id": "d13b6d59-657f-430a-b8dd-ff6afa685122",
   "metadata": {},
   "outputs": [
    {
     "name": "stdout",
     "output_type": "stream",
     "text": [
      "(5,)\n"
     ]
    }
   ],
   "source": [
    "print(arr.shape)"
   ]
  },
  {
   "cell_type": "code",
   "execution_count": 60,
   "id": "e48cb330-5141-4899-8e4d-0f5b1d51f43f",
   "metadata": {},
   "outputs": [
    {
     "name": "stdout",
     "output_type": "stream",
     "text": [
      "(3, 3)\n"
     ]
    }
   ],
   "source": [
    "print(ar2.shape)"
   ]
  },
  {
   "cell_type": "code",
   "execution_count": 62,
   "id": "064f9b66-a33a-4e02-8152-248255a3282b",
   "metadata": {},
   "outputs": [
    {
     "data": {
      "text/plain": [
       "array([[1, 2, 3],\n",
       "       [4, 5, 6],\n",
       "       [7, 8, 9]])"
      ]
     },
     "execution_count": 62,
     "metadata": {},
     "output_type": "execute_result"
    }
   ],
   "source": [
    "# Operations in Array\n",
    "\n",
    "ar3 = np.copy(ar2)\n",
    "ar3"
   ]
  },
  {
   "cell_type": "code",
   "execution_count": 63,
   "id": "ea06e434-6a2e-4b3c-8943-0b9a95a91f7d",
   "metadata": {},
   "outputs": [],
   "source": [
    "ar3[2,2] = 10"
   ]
  },
  {
   "cell_type": "code",
   "execution_count": 64,
   "id": "7b997fd8-bc21-4b50-8151-5e88970b2b9e",
   "metadata": {},
   "outputs": [
    {
     "data": {
      "text/plain": [
       "array([[ 1,  2,  3],\n",
       "       [ 4,  5,  6],\n",
       "       [ 7,  8, 10]])"
      ]
     },
     "execution_count": 64,
     "metadata": {},
     "output_type": "execute_result"
    }
   ],
   "source": [
    "ar3"
   ]
  },
  {
   "cell_type": "code",
   "execution_count": 65,
   "id": "7f6d2dce-5771-456c-b6c8-b319961579ee",
   "metadata": {},
   "outputs": [
    {
     "data": {
      "text/plain": [
       "array([[ 1, 15,  3],\n",
       "       [ 4,  5, 12],\n",
       "       [ 7,  8, 10]])"
      ]
     },
     "execution_count": 65,
     "metadata": {},
     "output_type": "execute_result"
    }
   ],
   "source": [
    "ar3[1,2] =12\n",
    "ar3[0,1] =15\n",
    "ar3"
   ]
  },
  {
   "cell_type": "code",
   "execution_count": 66,
   "id": "0e02734e-b08a-4f41-8819-46daa9f1b9f9",
   "metadata": {},
   "outputs": [
    {
     "data": {
      "text/plain": [
       "array([[ 1,  3, 15],\n",
       "       [ 4,  5, 12],\n",
       "       [ 7,  8, 10]])"
      ]
     },
     "execution_count": 66,
     "metadata": {},
     "output_type": "execute_result"
    }
   ],
   "source": [
    "ar3 = np.sort(ar3)\n",
    "ar3"
   ]
  },
  {
   "cell_type": "code",
   "execution_count": 67,
   "id": "da39500e-fe6f-4ccb-b763-cf97f4211969",
   "metadata": {},
   "outputs": [
    {
     "data": {
      "text/plain": [
       "array([[ 1,  3, 10],\n",
       "       [ 4,  5, 12],\n",
       "       [ 7,  8, 15]])"
      ]
     },
     "execution_count": 67,
     "metadata": {},
     "output_type": "execute_result"
    }
   ],
   "source": [
    "ar3 = np.sort(ar3,axis = 0)\n",
    "ar3"
   ]
  },
  {
   "cell_type": "code",
   "execution_count": 69,
   "id": "7b5ad400-071c-4864-b897-f6c3d1df5597",
   "metadata": {},
   "outputs": [
    {
     "data": {
      "text/plain": [
       "array([12, 16, 37])"
      ]
     },
     "execution_count": 69,
     "metadata": {},
     "output_type": "execute_result"
    }
   ],
   "source": [
    "ar3.sum(axis = 0)"
   ]
  },
  {
   "cell_type": "code",
   "execution_count": 70,
   "id": "5d5e9311-88f5-4fe3-be08-ed8fcadcb203",
   "metadata": {},
   "outputs": [
    {
     "data": {
      "text/plain": [
       "array([14, 21, 30])"
      ]
     },
     "execution_count": 70,
     "metadata": {},
     "output_type": "execute_result"
    }
   ],
   "source": [
    "ar3.sum(axis = 1)"
   ]
  },
  {
   "cell_type": "code",
   "execution_count": 71,
   "id": "85e661a8-ac31-417e-bb29-8b7d5cb6b4b9",
   "metadata": {},
   "outputs": [
    {
     "data": {
      "text/plain": [
       "array([0.71871485, 0.62711115, 0.45897081, 0.64954073, 0.64603453,\n",
       "       0.667304  , 0.12092559, 0.89338478, 0.48065929, 0.13703846,\n",
       "       0.88696523, 0.50688314, 0.02006611, 0.89036935, 0.58909575,\n",
       "       0.97814146, 0.58481965, 0.81860454, 0.20664859, 0.57702073,\n",
       "       0.55035168, 0.99182597, 0.48072678, 0.06139237, 0.11698786,\n",
       "       0.93770366, 0.36323751, 0.47301352, 0.40140045, 0.30343755,\n",
       "       0.42850482, 0.72523844, 0.00938416, 0.53788167, 0.29518613,\n",
       "       0.87289575, 0.23876473, 0.74919049, 0.18211429, 0.70088187,\n",
       "       0.09414423, 0.43590693, 0.75563805, 0.88877486, 0.08697418,\n",
       "       0.71155009, 0.40090315, 0.50958268, 0.86334294, 0.80691778,\n",
       "       0.78487548, 0.173221  , 0.24144043, 0.77668544, 0.76171031,\n",
       "       0.64915264, 0.72903337, 0.03537485, 0.35053626, 0.57181485,\n",
       "       0.70610793, 0.71928516, 0.79157452, 0.52504261, 0.08388008,\n",
       "       0.89269575, 0.38442711, 0.82336818, 0.72631562, 0.41318787,\n",
       "       0.03273642, 0.82544138, 0.42319354, 0.73413723, 0.50998575,\n",
       "       0.32502443, 0.3995666 , 0.79292128, 0.63082691, 0.12840899,\n",
       "       0.44604739, 0.67679682, 0.02420079, 0.58635111, 0.11125975,\n",
       "       0.74111325, 0.85306458, 0.76504663, 0.02630601, 0.32471509,\n",
       "       0.32267197, 0.22989729, 0.4957545 , 0.66512549, 0.51414229,\n",
       "       0.89132753, 0.52689704, 0.39677337, 0.88520337])"
      ]
     },
     "execution_count": 71,
     "metadata": {},
     "output_type": "execute_result"
    }
   ],
   "source": [
    "ar4 = np.random.rand(99)\n",
    "ar4"
   ]
  },
  {
   "cell_type": "code",
   "execution_count": 72,
   "id": "b598a9e9-6e07-41e4-aaef-b06c121a2093",
   "metadata": {},
   "outputs": [
    {
     "data": {
      "text/plain": [
       "array([[0.73085769, 0.35354173, 0.31456427, 0.80827829, 0.31986073],\n",
       "       [0.11196894, 0.8489239 , 0.68655417, 0.35248689, 0.68483733],\n",
       "       [0.37283031, 0.30572181, 0.42085865, 0.34050489, 0.84787888],\n",
       "       [0.650692  , 0.96876814, 0.93115063, 0.88318074, 0.19399692],\n",
       "       [0.14945869, 0.66671845, 0.23501851, 0.66858629, 0.3647633 ]])"
      ]
     },
     "execution_count": 72,
     "metadata": {},
     "output_type": "execute_result"
    }
   ],
   "source": [
    "x = np.random.rand(5,5)\n",
    "x"
   ]
  },
  {
   "cell_type": "code",
   "execution_count": 73,
   "id": "af57d925-5415-414b-91ff-7bcfab8e3307",
   "metadata": {},
   "outputs": [
    {
     "data": {
      "text/plain": [
       "array([[[0.77983618, 0.6923327 , 0.70218188, 0.74290845, 0.44801769],\n",
       "        [0.72384958, 0.42691407, 0.51369955, 0.38145098, 0.93552898],\n",
       "        [0.26459729, 0.98847121, 0.7760799 , 0.35066751, 0.30513289],\n",
       "        [0.37786057, 0.7396947 , 0.85969624, 0.11663808, 0.06769371],\n",
       "        [0.85044107, 0.64008038, 0.72541172, 0.2530406 , 0.45399987]],\n",
       "\n",
       "       [[0.48590214, 0.31765201, 0.85504786, 0.66662672, 0.84535019],\n",
       "        [0.42673347, 0.85243078, 0.64804014, 0.62204606, 0.56873757],\n",
       "        [0.79558574, 0.4828915 , 0.48369795, 0.38247743, 0.00131165],\n",
       "        [0.41095067, 0.25077509, 0.40516618, 0.01241106, 0.19977732],\n",
       "        [0.4903406 , 0.87814822, 0.98025607, 0.45663041, 0.56734842]],\n",
       "\n",
       "       [[0.27957014, 0.29426821, 0.13113171, 0.72591826, 0.30371237],\n",
       "        [0.15057827, 0.88147697, 0.43687546, 0.93316919, 0.3956073 ],\n",
       "        [0.62892202, 0.03569455, 0.83664161, 0.44278144, 0.86667622],\n",
       "        [0.98801977, 0.85429711, 0.25662473, 0.3346138 , 0.57137132],\n",
       "        [0.31638799, 0.85374488, 0.10170646, 0.9066819 , 0.14505981]],\n",
       "\n",
       "       [[0.76588487, 0.62666862, 0.69446331, 0.64119895, 0.06451335],\n",
       "        [0.27984677, 0.01333336, 0.58805839, 0.49284703, 0.9764794 ],\n",
       "        [0.17456144, 0.62257263, 0.3707337 , 0.38318544, 0.14349359],\n",
       "        [0.6285872 , 0.18020242, 0.53118603, 0.30912501, 0.88070499],\n",
       "        [0.73162802, 0.96031065, 0.99758523, 0.39960517, 0.97679213]],\n",
       "\n",
       "       [[0.5364498 , 0.34980389, 0.97014556, 0.23906256, 0.00382145],\n",
       "        [0.80014705, 0.95054343, 0.79310707, 0.81951316, 0.4834296 ],\n",
       "        [0.07008205, 0.85037941, 0.41746907, 0.53906348, 0.1105568 ],\n",
       "        [0.93535816, 0.08440948, 0.96678893, 0.99644189, 0.93325432],\n",
       "        [0.22623667, 0.75795994, 0.9214507 , 0.78147631, 0.14242795]]])"
      ]
     },
     "execution_count": 73,
     "metadata": {},
     "output_type": "execute_result"
    }
   ],
   "source": [
    "x = np.random.rand(5,5,5)\n",
    "x"
   ]
  },
  {
   "cell_type": "code",
   "execution_count": 77,
   "id": "c8d9d85d-00fc-46dc-a43a-5972e2bd4aab",
   "metadata": {},
   "outputs": [
    {
     "name": "stdout",
     "output_type": "stream",
     "text": [
      "5\n"
     ]
    }
   ],
   "source": [
    "print(arr.size)"
   ]
  },
  {
   "cell_type": "code",
   "execution_count": 82,
   "id": "54e9afcc-7e71-454d-a0a7-9b4a59407e24",
   "metadata": {},
   "outputs": [
    {
     "name": "stdout",
     "output_type": "stream",
     "text": [
      "9\n"
     ]
    }
   ],
   "source": [
    "print(ar2.size)"
   ]
  },
  {
   "cell_type": "code",
   "execution_count": 79,
   "id": "34bfdc04-3cfa-4dd0-9ccb-7acb55f7501a",
   "metadata": {},
   "outputs": [
    {
     "name": "stdout",
     "output_type": "stream",
     "text": [
      "(5,)\n"
     ]
    }
   ],
   "source": [
    "print(ar.shape)"
   ]
  },
  {
   "cell_type": "code",
   "execution_count": 81,
   "id": "ed9f9767-ecca-4ba8-b1e0-ba7cfe25326d",
   "metadata": {},
   "outputs": [
    {
     "name": "stdout",
     "output_type": "stream",
     "text": [
      "(3, 3)\n"
     ]
    }
   ],
   "source": [
    "print(ar2.shape)"
   ]
  },
  {
   "cell_type": "code",
   "execution_count": 83,
   "id": "0ec17ed3-61d2-4b7b-942b-c8daf8b80cc2",
   "metadata": {},
   "outputs": [
    {
     "data": {
      "text/plain": [
       "array([[1, 2, 3],\n",
       "       [4, 5, 6],\n",
       "       [7, 8, 9]])"
      ]
     },
     "execution_count": 83,
     "metadata": {},
     "output_type": "execute_result"
    }
   ],
   "source": [
    "arr3 = np.copy(ar2)\n",
    "arr3"
   ]
  },
  {
   "cell_type": "code",
   "execution_count": 84,
   "id": "3b2d64c9-1009-4a9b-96c2-605a7d099b6d",
   "metadata": {},
   "outputs": [
    {
     "data": {
      "text/plain": [
       "array([[ 1,  2,  3],\n",
       "       [ 4,  5,  6],\n",
       "       [ 7,  8, 10]])"
      ]
     },
     "execution_count": 84,
     "metadata": {},
     "output_type": "execute_result"
    }
   ],
   "source": [
    "arr3[2,2] = 10\n",
    "arr3"
   ]
  },
  {
   "cell_type": "code",
   "execution_count": 85,
   "id": "89913ff5-c3ff-4885-a5c0-32f2bf50ff8a",
   "metadata": {},
   "outputs": [
    {
     "data": {
      "text/plain": [
       "array([[ 1,  2,  3],\n",
       "       [ 4,  5, 12],\n",
       "       [ 7, 15, 10]])"
      ]
     },
     "execution_count": 85,
     "metadata": {},
     "output_type": "execute_result"
    }
   ],
   "source": [
    "arr3[1,2] =12\n",
    "arr3[2,1] = 15\n",
    "arr3"
   ]
  },
  {
   "cell_type": "code",
   "execution_count": 86,
   "id": "7bf15cc7-7939-4681-aa1a-c1b76ab9f215",
   "metadata": {},
   "outputs": [
    {
     "data": {
      "text/plain": [
       "array([[ 1,  2,  3],\n",
       "       [ 4,  5, 12],\n",
       "       [ 7, 10, 15]])"
      ]
     },
     "execution_count": 86,
     "metadata": {},
     "output_type": "execute_result"
    }
   ],
   "source": [
    "arr3 = np.sort(arr3)\n",
    "arr3"
   ]
  },
  {
   "cell_type": "code",
   "execution_count": 87,
   "id": "e69d5367-8f42-4149-bfd8-ea2c309904d0",
   "metadata": {},
   "outputs": [
    {
     "data": {
      "text/plain": [
       "array([0, 1, 2, 3, 4, 5, 6, 7, 8, 9])"
      ]
     },
     "execution_count": 87,
     "metadata": {},
     "output_type": "execute_result"
    }
   ],
   "source": [
    "ar"
   ]
  },
  {
   "cell_type": "code",
   "execution_count": 90,
   "id": "11188260-8d81-476f-9d46-fd3f1a4ab7fb",
   "metadata": {},
   "outputs": [
    {
     "data": {
      "text/plain": [
       "array([ 0,  1,  2,  3,  4,  5,  6,  7,  8,  9, 20])"
      ]
     },
     "execution_count": 90,
     "metadata": {},
     "output_type": "execute_result"
    }
   ],
   "source": [
    "np.append(ar, 20)"
   ]
  },
  {
   "cell_type": "code",
   "execution_count": 94,
   "id": "61cf63dc-7254-4d10-a6f2-11c37b8bbe8a",
   "metadata": {},
   "outputs": [
    {
     "data": {
      "text/plain": [
       "array([ 0,  1,  2,  3,  4,  5,  6,  7,  8,  9, 20, 20, 20])"
      ]
     },
     "execution_count": 94,
     "metadata": {},
     "output_type": "execute_result"
    }
   ],
   "source": [
    "ar = np.append(ar,20)\n",
    "ar"
   ]
  },
  {
   "cell_type": "code",
   "execution_count": 95,
   "id": "be75e783-cadb-49d7-9a48-2d0494abf148",
   "metadata": {},
   "outputs": [
    {
     "data": {
      "text/plain": [
       "array([ 0,  1,  2,  3,  4,  5,  7,  8,  9, 20, 20, 20])"
      ]
     },
     "execution_count": 95,
     "metadata": {},
     "output_type": "execute_result"
    }
   ],
   "source": [
    "ar = np.delete(ar, 6, axis = 0)\n",
    "ar"
   ]
  },
  {
   "cell_type": "code",
   "execution_count": 96,
   "id": "b61bc2ef-e680-4e97-b1a2-f24d0a908631",
   "metadata": {},
   "outputs": [
    {
     "data": {
      "text/plain": [
       "array([ 0,  1,  2,  3,  4,  5,  6,  7,  8,  9, 20, 20, 20])"
      ]
     },
     "execution_count": 96,
     "metadata": {},
     "output_type": "execute_result"
    }
   ],
   "source": [
    "ar = np.insert(ar,6,6)\n",
    "ar"
   ]
  },
  {
   "cell_type": "code",
   "execution_count": 97,
   "id": "c7566a2c-dd08-4e3e-9ca3-e8e0f783cb27",
   "metadata": {},
   "outputs": [
    {
     "data": {
      "text/plain": [
       "array([[1, 2, 3],\n",
       "       [4, 5, 6],\n",
       "       [7, 8, 9]])"
      ]
     },
     "execution_count": 97,
     "metadata": {},
     "output_type": "execute_result"
    }
   ],
   "source": [
    "#Concatention\n",
    "ar2"
   ]
  },
  {
   "cell_type": "code",
   "execution_count": 98,
   "id": "4fd445fe-9b04-445e-8266-9ad538c3f81d",
   "metadata": {},
   "outputs": [
    {
     "data": {
      "text/plain": [
       "array([[ 1,  3, 10],\n",
       "       [ 4,  5, 12],\n",
       "       [ 7,  8, 15]])"
      ]
     },
     "execution_count": 98,
     "metadata": {},
     "output_type": "execute_result"
    }
   ],
   "source": [
    "ar3"
   ]
  },
  {
   "cell_type": "code",
   "execution_count": 99,
   "id": "51f6f384-31d4-4fb7-81a5-1dd4ca7b2c5d",
   "metadata": {},
   "outputs": [
    {
     "data": {
      "text/plain": [
       "array([[ 1,  2,  3],\n",
       "       [ 4,  5,  6],\n",
       "       [ 7,  8,  9],\n",
       "       [ 1,  3, 10],\n",
       "       [ 4,  5, 12],\n",
       "       [ 7,  8, 15]])"
      ]
     },
     "execution_count": 99,
     "metadata": {},
     "output_type": "execute_result"
    }
   ],
   "source": [
    "ar4 = np.concatenate((ar2, ar3),axis = 0)\n",
    "ar4"
   ]
  },
  {
   "cell_type": "code",
   "execution_count": 100,
   "id": "4cd0f847-98fc-421c-af6a-f97d8fe4120d",
   "metadata": {},
   "outputs": [
    {
     "data": {
      "text/plain": [
       "array([[ 1,  2,  3,  1,  3, 10],\n",
       "       [ 4,  5,  6,  4,  5, 12],\n",
       "       [ 7,  8,  9,  7,  8, 15]])"
      ]
     },
     "execution_count": 100,
     "metadata": {},
     "output_type": "execute_result"
    }
   ],
   "source": [
    "ar5 = np.concatenate((ar2, ar3),axis = 1)\n",
    "ar5"
   ]
  },
  {
   "cell_type": "code",
   "execution_count": 101,
   "id": "54fa759b-2550-413b-ae0a-5ee6777240d4",
   "metadata": {},
   "outputs": [
    {
     "data": {
      "text/plain": [
       "[array([[1, 2, 3],\n",
       "        [4, 5, 6]]),\n",
       " array([[ 7,  8,  9],\n",
       "        [ 1,  3, 10]]),\n",
       " array([[ 4,  5, 12],\n",
       "        [ 7,  8, 15]])]"
      ]
     },
     "execution_count": 101,
     "metadata": {},
     "output_type": "execute_result"
    }
   ],
   "source": [
    "# Using Split function\n",
    "np.split(ar4,3)"
   ]
  },
  {
   "cell_type": "code",
   "execution_count": 102,
   "id": "f8d73414-051b-49fe-90e5-85c19b32dd07",
   "metadata": {},
   "outputs": [
    {
     "data": {
      "text/plain": [
       "[array([[1, 2, 3],\n",
       "        [4, 5, 6]]),\n",
       " array([[ 7,  8,  9],\n",
       "        [ 1,  3, 10]]),\n",
       " array([[ 4,  5, 12],\n",
       "        [ 7,  8, 15]])]"
      ]
     },
     "execution_count": 102,
     "metadata": {},
     "output_type": "execute_result"
    }
   ],
   "source": [
    "ar6 = np.split(ar4,3)\n",
    "ar6"
   ]
  },
  {
   "cell_type": "code",
   "execution_count": 103,
   "id": "0c9b508e-b417-4791-a7b7-059f8ad41c19",
   "metadata": {},
   "outputs": [
    {
     "data": {
      "text/plain": [
       "array([[ 2,  3,  4,  2,  4, 11],\n",
       "       [ 5,  6,  7,  5,  6, 13],\n",
       "       [ 8,  9, 10,  8,  9, 16]])"
      ]
     },
     "execution_count": 103,
     "metadata": {},
     "output_type": "execute_result"
    }
   ],
   "source": [
    "# Scaler Expressions\n",
    "# Addition\n",
    "np.add(ar5,1)"
   ]
  },
  {
   "cell_type": "code",
   "execution_count": 104,
   "id": "fcafcdaa-af00-4e34-ab5b-6f48404f8090",
   "metadata": {},
   "outputs": [
    {
     "data": {
      "text/plain": [
       "array([[ 0,  1,  2,  0,  2,  9],\n",
       "       [ 3,  4,  5,  3,  4, 11],\n",
       "       [ 6,  7,  8,  6,  7, 14]])"
      ]
     },
     "execution_count": 104,
     "metadata": {},
     "output_type": "execute_result"
    }
   ],
   "source": [
    "# Subtraction\n",
    "np.subtract(ar5,1)"
   ]
  },
  {
   "cell_type": "code",
   "execution_count": 105,
   "id": "8af91761-27ac-4500-8e79-8a3557a57452",
   "metadata": {},
   "outputs": [
    {
     "data": {
      "text/plain": [
       "array([[ 1,  2,  3,  1,  3, 10],\n",
       "       [ 4,  5,  6,  4,  5, 12],\n",
       "       [ 7,  8,  9,  7,  8, 15]])"
      ]
     },
     "execution_count": 105,
     "metadata": {},
     "output_type": "execute_result"
    }
   ],
   "source": [
    "# Multiplication\n",
    "np.multiply(ar5,1)"
   ]
  },
  {
   "cell_type": "code",
   "execution_count": 106,
   "id": "66619fb1-c4e2-4fd2-bbdb-878cdd970af7",
   "metadata": {},
   "outputs": [
    {
     "data": {
      "text/plain": [
       "array([[ 1.,  2.,  3.,  1.,  3., 10.],\n",
       "       [ 4.,  5.,  6.,  4.,  5., 12.],\n",
       "       [ 7.,  8.,  9.,  7.,  8., 15.]])"
      ]
     },
     "execution_count": 106,
     "metadata": {},
     "output_type": "execute_result"
    }
   ],
   "source": [
    "# Divide \n",
    "np.divide(ar5,1)"
   ]
  },
  {
   "cell_type": "code",
   "execution_count": 116,
   "id": "efd4016a-511a-4a5d-8d85-573f736b8135",
   "metadata": {},
   "outputs": [
    {
     "data": {
      "text/plain": [
       "[array([[1, 2, 3],\n",
       "        [4, 5, 6]]),\n",
       " array([[ 7,  8,  9],\n",
       "        [ 1,  3, 10]]),\n",
       " array([[ 4,  5, 12],\n",
       "        [ 7,  8, 15]])]"
      ]
     },
     "execution_count": 116,
     "metadata": {},
     "output_type": "execute_result"
    }
   ],
   "source": [
    "# Vector Operations\n",
    "ar6"
   ]
  },
  {
   "cell_type": "code",
   "execution_count": 108,
   "id": "3c9b919f-00c6-43d3-8973-72791ab5cf0c",
   "metadata": {},
   "outputs": [
    {
     "data": {
      "text/plain": [
       "array([[ 8, 10, 12],\n",
       "       [ 5,  8, 16]])"
      ]
     },
     "execution_count": 108,
     "metadata": {},
     "output_type": "execute_result"
    }
   ],
   "source": [
    "# Addition\n",
    "ar7 = np.add(ar6[0],ar6[1])\n",
    "ar7"
   ]
  },
  {
   "cell_type": "code",
   "execution_count": 115,
   "id": "1acc07f9-db4b-4e92-bdf4-824fea6bdf53",
   "metadata": {},
   "outputs": [
    {
     "data": {
      "text/plain": [
       "array([[-6, -6, -6],\n",
       "       [ 3,  2, -4]])"
      ]
     },
     "execution_count": 115,
     "metadata": {},
     "output_type": "execute_result"
    }
   ],
   "source": [
    "# Subtraction\n",
    "ar8 = np.subtract(ar6[0],ar6[1])\n",
    "ar8"
   ]
  },
  {
   "cell_type": "code",
   "execution_count": 110,
   "id": "a66e7c66-5485-418a-a643-d30f7de698ae",
   "metadata": {},
   "outputs": [
    {
     "data": {
      "text/plain": [
       "array([[ 7, 16, 27],\n",
       "       [ 4, 15, 60]])"
      ]
     },
     "execution_count": 110,
     "metadata": {},
     "output_type": "execute_result"
    }
   ],
   "source": [
    "# Multiplication\n",
    "ar9 = np.multiply(ar6[0],ar6[1])\n",
    "ar9"
   ]
  },
  {
   "cell_type": "code",
   "execution_count": 111,
   "id": "83b70784-8a43-4e17-97b2-bed49e1a3843",
   "metadata": {},
   "outputs": [
    {
     "data": {
      "text/plain": [
       "array([[0.14285714, 0.25      , 0.33333333],\n",
       "       [4.        , 1.66666667, 0.6       ]])"
      ]
     },
     "execution_count": 111,
     "metadata": {},
     "output_type": "execute_result"
    }
   ],
   "source": [
    "# Divide\n",
    "ar10 = np.divide(ar6[0],ar6[1])\n",
    "ar10"
   ]
  },
  {
   "cell_type": "code",
   "execution_count": 112,
   "id": "45383c90-1677-4b08-a9cd-6a5899e6ce03",
   "metadata": {},
   "outputs": [
    {
     "data": {
      "text/plain": [
       "array([[ 7., 16., 27.],\n",
       "       [ 4., 15., 60.]])"
      ]
     },
     "execution_count": 112,
     "metadata": {},
     "output_type": "execute_result"
    }
   ],
   "source": [
    "np.ceil(ar9)"
   ]
  },
  {
   "cell_type": "code",
   "execution_count": 113,
   "id": "fe8a2995-6dc1-41b5-9bc2-56be426387c3",
   "metadata": {},
   "outputs": [
    {
     "data": {
      "text/plain": [
       "array([[ 7., 16., 27.],\n",
       "       [ 4., 15., 60.]])"
      ]
     },
     "execution_count": 113,
     "metadata": {},
     "output_type": "execute_result"
    }
   ],
   "source": [
    "np.floor(ar9)"
   ]
  },
  {
   "cell_type": "code",
   "execution_count": 114,
   "id": "8a0b3cd6-eca9-43ab-a85a-200467488704",
   "metadata": {},
   "outputs": [
    {
     "data": {
      "text/plain": [
       "array([[ 7, 16, 27],\n",
       "       [ 4, 15, 60]])"
      ]
     },
     "execution_count": 114,
     "metadata": {},
     "output_type": "execute_result"
    }
   ],
   "source": [
    "np.round(ar9)"
   ]
  },
  {
   "cell_type": "markdown",
   "id": "d2e52448-139f-4454-b4a4-77e67ffd5fe9",
   "metadata": {},
   "source": [
    "# Statistics\n",
    "\n"
   ]
  },
  {
   "cell_type": "code",
   "execution_count": 117,
   "id": "71068cc0-01c6-4843-a49b-e2765f05c6ec",
   "metadata": {},
   "outputs": [
    {
     "data": {
      "text/plain": [
       "np.float64(6.111111111111111)"
      ]
     },
     "execution_count": 117,
     "metadata": {},
     "output_type": "execute_result"
    }
   ],
   "source": [
    "np.mean(ar5)"
   ]
  },
  {
   "cell_type": "code",
   "execution_count": 118,
   "id": "00c88b62-db46-4fec-b788-67b0413d71f1",
   "metadata": {},
   "outputs": [
    {
     "data": {
      "text/plain": [
       "array([ 4.        ,  5.        ,  6.        ,  4.        ,  5.33333333,\n",
       "       12.33333333])"
      ]
     },
     "execution_count": 118,
     "metadata": {},
     "output_type": "execute_result"
    }
   ],
   "source": [
    "np.mean(ar5,axis = 0)"
   ]
  },
  {
   "cell_type": "code",
   "execution_count": 119,
   "id": "9df65cc9-1e09-41b5-849d-96838feb0fa4",
   "metadata": {},
   "outputs": [
    {
     "data": {
      "text/plain": [
       "array([3.33333333, 6.        , 9.        ])"
      ]
     },
     "execution_count": 119,
     "metadata": {},
     "output_type": "execute_result"
    }
   ],
   "source": [
    "np.mean(ar5, axis = 1)"
   ]
  },
  {
   "cell_type": "code",
   "execution_count": 120,
   "id": "87000db7-d8ca-4ddd-80f3-39b94e1609c8",
   "metadata": {},
   "outputs": [
    {
     "data": {
      "text/plain": [
       "array([2.5, 5. , 8. ])"
      ]
     },
     "execution_count": 120,
     "metadata": {},
     "output_type": "execute_result"
    }
   ],
   "source": [
    "np.median(ar5, axis = 1)"
   ]
  },
  {
   "cell_type": "code",
   "execution_count": 121,
   "id": "b7382a78-cac3-415f-8c06-9aea9c40f3d4",
   "metadata": {},
   "outputs": [
    {
     "data": {
      "text/plain": [
       "np.int64(1)"
      ]
     },
     "execution_count": 121,
     "metadata": {},
     "output_type": "execute_result"
    }
   ],
   "source": [
    "np.min(ar5)"
   ]
  },
  {
   "cell_type": "code",
   "execution_count": 122,
   "id": "07e5cc35-4f5c-4edb-9a68-87bf9eee4609",
   "metadata": {},
   "outputs": [
    {
     "data": {
      "text/plain": [
       "array([ 1,  2,  3,  1,  3, 10])"
      ]
     },
     "execution_count": 122,
     "metadata": {},
     "output_type": "execute_result"
    }
   ],
   "source": [
    "np.min(ar5, axis = 0)"
   ]
  },
  {
   "cell_type": "code",
   "execution_count": 123,
   "id": "df743dd1-8d26-4cac-9d06-4214adc8f6aa",
   "metadata": {},
   "outputs": [
    {
     "data": {
      "text/plain": [
       "array([ 7,  8,  9,  7,  8, 15])"
      ]
     },
     "execution_count": 123,
     "metadata": {},
     "output_type": "execute_result"
    }
   ],
   "source": [
    "np.max(ar5, axis = 0)"
   ]
  },
  {
   "cell_type": "code",
   "execution_count": 126,
   "id": "cbaac748-b66e-47e7-b83f-1c6a99be17a4",
   "metadata": {},
   "outputs": [
    {
     "data": {
      "text/plain": [
       "array([[ 1,  2,  3,  1,  3, 10],\n",
       "       [ 4,  5,  6,  4,  5, 12],\n",
       "       [ 7,  8,  9,  7,  8, 15]])"
      ]
     },
     "execution_count": 126,
     "metadata": {},
     "output_type": "execute_result"
    }
   ],
   "source": [
    "ar10 = np.array([2,5,3,8,0,4,1,6,9])\n",
    "ar5"
   ]
  },
  {
   "cell_type": "code",
   "execution_count": 127,
   "id": "65e44493-1a7f-473f-a3e1-89062645f27e",
   "metadata": {},
   "outputs": [
    {
     "data": {
      "text/plain": [
       "array([2, 5, 3, 8, 0, 4, 1, 6, 9])"
      ]
     },
     "execution_count": 127,
     "metadata": {},
     "output_type": "execute_result"
    }
   ],
   "source": [
    "ar10"
   ]
  },
  {
   "cell_type": "code",
   "execution_count": 128,
   "id": "ea2cf535-92f9-4ec0-92ac-ca1571207373",
   "metadata": {},
   "outputs": [
    {
     "data": {
      "text/plain": [
       "np.int64(8)"
      ]
     },
     "execution_count": 128,
     "metadata": {},
     "output_type": "execute_result"
    }
   ],
   "source": [
    "np.argmax(ar10)"
   ]
  },
  {
   "cell_type": "code",
   "execution_count": 129,
   "id": "eebe7ccd-271a-4664-b593-9402dac61be6",
   "metadata": {},
   "outputs": [
    {
     "data": {
      "text/plain": [
       "np.int64(4)"
      ]
     },
     "execution_count": 129,
     "metadata": {},
     "output_type": "execute_result"
    }
   ],
   "source": [
    "np.argmin(ar10)"
   ]
  },
  {
   "cell_type": "code",
   "execution_count": 130,
   "id": "e10522be-07da-49e3-b233-f0e99374461e",
   "metadata": {},
   "outputs": [
    {
     "data": {
      "text/plain": [
       "array([4, 6, 0, 2, 5, 1, 7, 3, 8])"
      ]
     },
     "execution_count": 130,
     "metadata": {},
     "output_type": "execute_result"
    }
   ],
   "source": [
    "np.argsort(ar10)"
   ]
  },
  {
   "cell_type": "code",
   "execution_count": 131,
   "id": "d1af9831-7070-4ffc-a0e6-96767d5dea02",
   "metadata": {},
   "outputs": [
    {
     "data": {
      "text/plain": [
       "array([2, 5, 3, 8, 0, 4, 1, 6, 9])"
      ]
     },
     "execution_count": 131,
     "metadata": {},
     "output_type": "execute_result"
    }
   ],
   "source": [
    "ar10"
   ]
  },
  {
   "cell_type": "code",
   "execution_count": 132,
   "id": "4a4a75d3-7789-4868-9342-9c6bcfb3ba37",
   "metadata": {},
   "outputs": [
    {
     "data": {
      "text/plain": [
       "array([ 0.90929743, -0.95892427,  0.14112001,  0.98935825,  0.        ,\n",
       "       -0.7568025 ,  0.84147098, -0.2794155 ,  0.41211849])"
      ]
     },
     "execution_count": 132,
     "metadata": {},
     "output_type": "execute_result"
    }
   ],
   "source": [
    "np.sin(ar10)"
   ]
  },
  {
   "cell_type": "code",
   "execution_count": 133,
   "id": "6a412015-cc82-454a-a122-268423b21dd4",
   "metadata": {},
   "outputs": [
    {
     "name": "stderr",
     "output_type": "stream",
     "text": [
      "C:\\Users\\gagan\\AppData\\Local\\Temp\\ipykernel_17496\\168028880.py:1: RuntimeWarning: divide by zero encountered in log\n",
      "  np.log(ar10)\n"
     ]
    },
    {
     "data": {
      "text/plain": [
       "array([0.69314718, 1.60943791, 1.09861229, 2.07944154,       -inf,\n",
       "       1.38629436, 0.        , 1.79175947, 2.19722458])"
      ]
     },
     "execution_count": 133,
     "metadata": {},
     "output_type": "execute_result"
    }
   ],
   "source": [
    "np.log(ar10)"
   ]
  }
 ],
 "metadata": {
  "kernelspec": {
   "display_name": "Python 3 (ipykernel)",
   "language": "python",
   "name": "python3"
  },
  "language_info": {
   "codemirror_mode": {
    "name": "ipython",
    "version": 3
   },
   "file_extension": ".py",
   "mimetype": "text/x-python",
   "name": "python",
   "nbconvert_exporter": "python",
   "pygments_lexer": "ipython3",
   "version": "3.12.1"
  }
 },
 "nbformat": 4,
 "nbformat_minor": 5
}
